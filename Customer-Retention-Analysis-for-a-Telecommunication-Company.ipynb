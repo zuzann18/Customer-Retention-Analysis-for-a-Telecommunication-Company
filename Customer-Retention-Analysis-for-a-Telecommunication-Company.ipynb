{
 "cells": [
  {
   "cell_type": "markdown",
   "id": "822e713e",
   "metadata": {},
   "source": [
    "Założenia ogólne:\n",
    "* płatność z dołu\n",
    "* wpływ netto od klienta w wysokości $25\n",
    "* oraz stopa dyskontowa 2%\n",
    "\n",
    "1.  Pierwsza część zadania wymagała od nas zbudowania **prostego modelu retencji** i przy jego użyciu oszacowania: \n",
    "- stopy retencji\n",
    "- średniego czasu do odejścia\n",
    "- mediany czasu odejścia\n",
    "- oraz oczekiwanej wartości CLV"
   ]
  },
  {
   "cell_type": "code",
   "execution_count": 82,
   "id": "bf30bb87",
   "metadata": {},
   "outputs": [],
   "source": [
    "import pandas as pd\n",
    "import math\n",
    "# wczytanie danych\n",
    "data = pd.read_csv(\"telco_customers.csv\")"
   ]
  },
  {
   "cell_type": "code",
   "execution_count": 83,
   "id": "aab37d91",
   "metadata": {},
   "outputs": [
    {
     "data": {
      "text/plain": [
       "False"
      ]
     },
     "execution_count": 83,
     "metadata": {},
     "output_type": "execute_result"
    }
   ],
   "source": [
    "data['customerID'].duplicated().any()"
   ]
  },
  {
   "cell_type": "code",
   "execution_count": 84,
   "id": "127b5d9d",
   "metadata": {},
   "outputs": [],
   "source": [
    "# oszacowanie stopy retencji\n",
    "\n",
    "#sum_c = data[data[\"cancel\"]==0][\"tenure\"].sum() \n",
    "#sum_t = data[data[\"cancel\"]==1][\"tenure\"].sum()   \n",
    "\n",
    "\n",
    "sum = data[\"tenure\"].sum()   #zastąpiłem powyższe w tej lini bo jest prościej \n",
    "\n",
    "churned = data[data[\"cancel\"]==1][\"cancel\"].count()\n"
   ]
  },
  {
   "cell_type": "markdown",
   "id": "8660dbd6",
   "metadata": {},
   "source": [
    "Zmienna **sum** zawiera sobie sumę wszystkich miesięcy. Są to miesiące w, których klient potencjalnie mógł zrezygnować z usługi.  \n",
    "Zmienna **churned** jest równa ilości miesięcy w których klient faktycznie zrezygnował z usługi. "
   ]
  },
  {
   "cell_type": "code",
   "execution_count": 85,
   "id": "1ff0c5a5",
   "metadata": {},
   "outputs": [
    {
     "name": "stdout",
     "output_type": "stream",
     "text": [
      "Współczynnik retencji: 0.9773542699241194\n"
     ]
    }
   ],
   "source": [
    "retention_rate = 1 - (churned/sum)\n",
    "print(\"Współczynnik retencji:\", retention_rate)"
   ]
  },
  {
   "cell_type": "markdown",
   "id": "58a9d61a",
   "metadata": {},
   "source": [
    "Stopa retencji jest równa stosunkowi miesięcy w których klienci  mogli zrezygnować i tego nie zrobili do sumy wszystkich miesięcy korzystania z usługi.\n",
    "W naszym przypadku wynosi **0.977** co jest wartością bardzo wysoką. "
   ]
  },
  {
   "cell_type": "code",
   "execution_count": 86,
   "id": "6655a3b5",
   "metadata": {
    "scrolled": false
   },
   "outputs": [
    {
     "name": "stdout",
     "output_type": "stream",
     "text": [
      "Średni czas do odejścia: 44.15843501840009\n"
     ]
    }
   ],
   "source": [
    "# średni czas do odejścia\n",
    "average_time_to_churn = 1/(1-retention_rate)\n",
    "print(\"Średni czas do odejścia:\", average_time_to_churn)"
   ]
  },
  {
   "cell_type": "markdown",
   "id": "95bf9701",
   "metadata": {},
   "source": [
    "**Średni czas do odejścia** wynosi w naszym przypadku: 44.15 miesiąca. Czyli firma może oczekiwać 44 płatności od klientów.Co też oceniamy jako bardzo dobry wynik. (To prawie 4 lata).  \n",
    "Jako ciekowostkę możemy poniżej zobaczyć, że bazując na danych a nie na stopie retencji (którą zakładamy jako stałą w czasie) średni czas odejścia wynosi 37,65 miesiąca. "
   ]
  },
  {
   "cell_type": "code",
   "execution_count": 87,
   "id": "f8f193b7",
   "metadata": {},
   "outputs": [
    {
     "name": "stdout",
     "output_type": "stream",
     "text": [
      "37.65000968429208\n"
     ]
    }
   ],
   "source": [
    "average_churn_time = data[data[\"cancel\"]==1][\"tenure\"].mean()\n",
    "print(average_churn_time)"
   ]
  },
  {
   "cell_type": "code",
   "execution_count": 88,
   "id": "3c2bfe50",
   "metadata": {},
   "outputs": [
    {
     "name": "stdout",
     "output_type": "stream",
     "text": [
      "Mediana czasu do odejścia: 31.26039804501291\n"
     ]
    }
   ],
   "source": [
    "# mediana czasu odejścia\n",
    "median_time_to_churn = 1+(math.log(0.5)/math.log(retention_rate))\n",
    "print(\"Mediana czasu do odejścia:\", median_time_to_churn)"
   ]
  },
  {
   "cell_type": "markdown",
   "id": "7114b129",
   "metadata": {},
   "source": [
    "Jak możemy zaobserwować wyżej co najmniej połowa klientów dotrwa do okresu 31."
   ]
  },
  {
   "cell_type": "code",
   "execution_count": 89,
   "id": "94a69c9b",
   "metadata": {},
   "outputs": [
    {
     "data": {
      "text/plain": [
       "586.2251614761173"
      ]
     },
     "execution_count": 89,
     "metadata": {},
     "output_type": "execute_result"
    }
   ],
   "source": [
    "# Obliczanie CLV\n",
    "net_income = 25 \n",
    "discount_rate = 0.02 \n",
    "r = retention_rate \n",
    "clv = net_income / (1 + discount_rate - r) #Syliwa miała + r, ale wtedy wychodzi bardzo mała wartośc + na slajdach jest wzór z  +  (slajd 20)\n",
    "clv"
   ]
  },
  {
   "cell_type": "markdown",
   "id": "ba2e001e",
   "metadata": {},
   "source": [
    "**CLV** wynosi 586$. To całkiem pokaźna kwota. Jej znajomość, może pomóc firmie w podejmowaniu decyzji np. co do maksymalnych nakładów, które można przeznaczyć na pozyskiwanie nowych klientów. "
   ]
  },
  {
   "cell_type": "markdown",
   "id": "e3ce342c",
   "metadata": {},
   "source": [
    "2. Część druga polegała na zbudowaniu **uogólnionego modelu retencji** i oszacowaniu tych samych wartości co w części pierwsza, czyli:\n",
    "\n",
    " * stopy retencji\n",
    " * średniego czasu do odejścia\n",
    " * mediany czasu odejścia\n",
    " * oraz oczekiwanej wartości CLV\n",
    " \n",
    " Należy również krótko porównać wyniki do prostego modelu retencji.\n"
   ]
  },
  {
   "cell_type": "code",
   "execution_count": 90,
   "id": "4dd34d9e",
   "metadata": {},
   "outputs": [
    {
     "data": {
      "text/html": [
       "<div>\n",
       "<style scoped>\n",
       "    .dataframe tbody tr th:only-of-type {\n",
       "        vertical-align: middle;\n",
       "    }\n",
       "\n",
       "    .dataframe tbody tr th {\n",
       "        vertical-align: top;\n",
       "    }\n",
       "\n",
       "    .dataframe thead th {\n",
       "        text-align: right;\n",
       "    }\n",
       "</style>\n",
       "<table border=\"1\" class=\"dataframe\">\n",
       "  <thead>\n",
       "    <tr style=\"text-align: right;\">\n",
       "      <th></th>\n",
       "      <th>KM_estimate</th>\n",
       "    </tr>\n",
       "    <tr>\n",
       "      <th>timeline</th>\n",
       "      <th></th>\n",
       "    </tr>\n",
       "  </thead>\n",
       "  <tbody>\n",
       "    <tr>\n",
       "      <th>0.0</th>\n",
       "      <td>1.000000</td>\n",
       "    </tr>\n",
       "    <tr>\n",
       "      <th>1.0</th>\n",
       "      <td>0.966866</td>\n",
       "    </tr>\n",
       "    <tr>\n",
       "      <th>2.0</th>\n",
       "      <td>0.949544</td>\n",
       "    </tr>\n",
       "    <tr>\n",
       "      <th>3.0</th>\n",
       "      <td>0.933260</td>\n",
       "    </tr>\n",
       "    <tr>\n",
       "      <th>4.0</th>\n",
       "      <td>0.918748</td>\n",
       "    </tr>\n",
       "    <tr>\n",
       "      <th>...</th>\n",
       "      <td>...</td>\n",
       "    </tr>\n",
       "    <tr>\n",
       "      <th>68.0</th>\n",
       "      <td>0.171555</td>\n",
       "    </tr>\n",
       "    <tr>\n",
       "      <th>69.0</th>\n",
       "      <td>0.151548</td>\n",
       "    </tr>\n",
       "    <tr>\n",
       "      <th>70.0</th>\n",
       "      <td>0.126406</td>\n",
       "    </tr>\n",
       "    <tr>\n",
       "      <th>71.0</th>\n",
       "      <td>0.087439</td>\n",
       "    </tr>\n",
       "    <tr>\n",
       "      <th>72.0</th>\n",
       "      <td>0.001449</td>\n",
       "    </tr>\n",
       "  </tbody>\n",
       "</table>\n",
       "<p>73 rows × 1 columns</p>\n",
       "</div>"
      ],
      "text/plain": [
       "          KM_estimate\n",
       "timeline             \n",
       "0.0          1.000000\n",
       "1.0          0.966866\n",
       "2.0          0.949544\n",
       "3.0          0.933260\n",
       "4.0          0.918748\n",
       "...               ...\n",
       "68.0         0.171555\n",
       "69.0         0.151548\n",
       "70.0         0.126406\n",
       "71.0         0.087439\n",
       "72.0         0.001449\n",
       "\n",
       "[73 rows x 1 columns]"
      ]
     },
     "execution_count": 90,
     "metadata": {},
     "output_type": "execute_result"
    }
   ],
   "source": [
    "import pandas as pd\n",
    "from lifelines import KaplanMeierFitter\n",
    "\n",
    "data = pd.read_csv(\"telco_customers.csv\")\n",
    "\n",
    "\n",
    "data = data.sort_values(\"tenure\")\n",
    "\n",
    "# Tworzenie modelu Kaplan-Meiera\n",
    "kmf = KaplanMeierFitter()\n",
    "\n",
    "\n",
    "kmf.fit(data[\"tenure\"], event_observed=data[\"cancel\"])\n",
    "\n",
    "\n",
    "\n",
    "retention_rate = kmf.survival_function_\n",
    "retention_rate"
   ]
  },
  {
   "cell_type": "markdown",
   "id": "2fb1e161",
   "metadata": {},
   "source": [
    "Powyżej możemy zobaczyć **stopę retencji** dla każdego przedziału czasowego.  \n",
    "Najwyższa wartość **tenure** wynosi 72. (Z tego możemy wywnioskować, że badany okres czasu to 6 lat. )  \n",
    "Wynika z tego również, że mamy 72 przedziały czasowe i dla każdego z nich osobną stopę retencji."
   ]
  },
  {
   "cell_type": "code",
   "execution_count": 91,
   "id": "ce65584c",
   "metadata": {
    "scrolled": true
   },
   "outputs": [
    {
     "data": {
      "text/plain": [
       "<AxesSubplot:xlabel='timeline'>"
      ]
     },
     "execution_count": 91,
     "metadata": {},
     "output_type": "execute_result"
    },
    {
     "data": {
      "image/png": "[encoded data removed]",
      "text/plain": [
       "<Figure size 432x288 with 1 Axes>"
      ]
     },
     "metadata": {
      "needs_background": "light"
     },
     "output_type": "display_data"
    }
   ],
   "source": [
    "# Wyświetlanie stopy retencji\n",
    "kmf.plot()"
   ]
  },
  {
   "cell_type": "markdown",
   "id": "4ee379c1",
   "metadata": {},
   "source": [
    "Na powyższym wykresie możemy zobaczyć jak kształtuje się stopa retencji w poszczególnych przedziałach czasowych. "
   ]
  },
  {
   "cell_type": "code",
   "execution_count": 92,
   "id": "a7549525",
   "metadata": {
    "scrolled": true
   },
   "outputs": [
    {
     "data": {
      "text/html": [
       "<div>\n",
       "<style scoped>\n",
       "    .dataframe tbody tr th:only-of-type {\n",
       "        vertical-align: middle;\n",
       "    }\n",
       "\n",
       "    .dataframe tbody tr th {\n",
       "        vertical-align: top;\n",
       "    }\n",
       "\n",
       "    .dataframe thead th {\n",
       "        text-align: right;\n",
       "    }\n",
       "</style>\n",
       "<table border=\"1\" class=\"dataframe\">\n",
       "  <thead>\n",
       "    <tr style=\"text-align: right;\">\n",
       "      <th></th>\n",
       "      <th>KM_estimate - Conditional median duration remaining to event</th>\n",
       "    </tr>\n",
       "    <tr>\n",
       "      <th>timeline</th>\n",
       "      <th></th>\n",
       "    </tr>\n",
       "  </thead>\n",
       "  <tbody>\n",
       "    <tr>\n",
       "      <th>0.0</th>\n",
       "      <td>44.0</td>\n",
       "    </tr>\n",
       "    <tr>\n",
       "      <th>1.0</th>\n",
       "      <td>45.0</td>\n",
       "    </tr>\n",
       "    <tr>\n",
       "      <th>2.0</th>\n",
       "      <td>44.0</td>\n",
       "    </tr>\n",
       "    <tr>\n",
       "      <th>3.0</th>\n",
       "      <td>44.0</td>\n",
       "    </tr>\n",
       "    <tr>\n",
       "      <th>4.0</th>\n",
       "      <td>44.0</td>\n",
       "    </tr>\n",
       "    <tr>\n",
       "      <th>...</th>\n",
       "      <td>...</td>\n",
       "    </tr>\n",
       "    <tr>\n",
       "      <th>68.0</th>\n",
       "      <td>4.0</td>\n",
       "    </tr>\n",
       "    <tr>\n",
       "      <th>69.0</th>\n",
       "      <td>3.0</td>\n",
       "    </tr>\n",
       "    <tr>\n",
       "      <th>70.0</th>\n",
       "      <td>2.0</td>\n",
       "    </tr>\n",
       "    <tr>\n",
       "      <th>71.0</th>\n",
       "      <td>1.0</td>\n",
       "    </tr>\n",
       "    <tr>\n",
       "      <th>72.0</th>\n",
       "      <td>inf</td>\n",
       "    </tr>\n",
       "  </tbody>\n",
       "</table>\n",
       "<p>73 rows × 1 columns</p>\n",
       "</div>"
      ],
      "text/plain": [
       "          KM_estimate - Conditional median duration remaining to event\n",
       "timeline                                                              \n",
       "0.0                                                    44.0           \n",
       "1.0                                                    45.0           \n",
       "2.0                                                    44.0           \n",
       "3.0                                                    44.0           \n",
       "4.0                                                    44.0           \n",
       "...                                                     ...           \n",
       "68.0                                                    4.0           \n",
       "69.0                                                    3.0           \n",
       "70.0                                                    2.0           \n",
       "71.0                                                    1.0           \n",
       "72.0                                                    inf           \n",
       "\n",
       "[73 rows x 1 columns]"
      ]
     },
     "execution_count": 92,
     "metadata": {},
     "output_type": "execute_result"
    }
   ],
   "source": [
    "kmf.conditional_time_to_event_"
   ]
  },
  {
   "cell_type": "code",
   "execution_count": 116,
   "id": "8b76b468",
   "metadata": {
    "scrolled": false
   },
   "outputs": [
    {
     "name": "stdout",
     "output_type": "stream",
     "text": [
      "44.0\n"
     ]
    }
   ],
   "source": [
    "average_time_to_cancel = kmf.median_survival_time_\n",
    "print(average_time_to_cancel)"
   ]
  },
  {
   "cell_type": "markdown",
   "id": "9cbdeba0",
   "metadata": {},
   "source": [
    "Możemy zauważyć, że mediana czasu odejścia wynosi 44 miesiące i jest większa niż w prostym modelu retencji. "
   ]
  },
  {
   "cell_type": "code",
   "execution_count": 134,
   "id": "856588be",
   "metadata": {},
   "outputs": [
    {
     "data": {
      "text/html": [
       "<div>\n",
       "<style scoped>\n",
       "    .dataframe tbody tr th:only-of-type {\n",
       "        vertical-align: middle;\n",
       "    }\n",
       "\n",
       "    .dataframe tbody tr th {\n",
       "        vertical-align: top;\n",
       "    }\n",
       "\n",
       "    .dataframe thead th {\n",
       "        text-align: right;\n",
       "    }\n",
       "</style>\n",
       "<table border=\"1\" class=\"dataframe\">\n",
       "  <thead>\n",
       "    <tr style=\"text-align: right;\">\n",
       "      <th></th>\n",
       "      <th>KM_estimate</th>\n",
       "    </tr>\n",
       "    <tr>\n",
       "      <th>timeline</th>\n",
       "      <th></th>\n",
       "    </tr>\n",
       "  </thead>\n",
       "  <tbody>\n",
       "    <tr>\n",
       "      <th>0.0</th>\n",
       "      <td>1.000000</td>\n",
       "    </tr>\n",
       "    <tr>\n",
       "      <th>1.0</th>\n",
       "      <td>0.966866</td>\n",
       "    </tr>\n",
       "    <tr>\n",
       "      <th>2.0</th>\n",
       "      <td>0.949544</td>\n",
       "    </tr>\n",
       "    <tr>\n",
       "      <th>3.0</th>\n",
       "      <td>0.933260</td>\n",
       "    </tr>\n",
       "    <tr>\n",
       "      <th>4.0</th>\n",
       "      <td>0.918748</td>\n",
       "    </tr>\n",
       "    <tr>\n",
       "      <th>...</th>\n",
       "      <td>...</td>\n",
       "    </tr>\n",
       "    <tr>\n",
       "      <th>68.0</th>\n",
       "      <td>0.171555</td>\n",
       "    </tr>\n",
       "    <tr>\n",
       "      <th>69.0</th>\n",
       "      <td>0.151548</td>\n",
       "    </tr>\n",
       "    <tr>\n",
       "      <th>70.0</th>\n",
       "      <td>0.126406</td>\n",
       "    </tr>\n",
       "    <tr>\n",
       "      <th>71.0</th>\n",
       "      <td>0.087439</td>\n",
       "    </tr>\n",
       "    <tr>\n",
       "      <th>72.0</th>\n",
       "      <td>0.001449</td>\n",
       "    </tr>\n",
       "  </tbody>\n",
       "</table>\n",
       "<p>73 rows × 1 columns</p>\n",
       "</div>"
      ],
      "text/plain": [
       "          KM_estimate\n",
       "timeline             \n",
       "0.0          1.000000\n",
       "1.0          0.966866\n",
       "2.0          0.949544\n",
       "3.0          0.933260\n",
       "4.0          0.918748\n",
       "...               ...\n",
       "68.0         0.171555\n",
       "69.0         0.151548\n",
       "70.0         0.126406\n",
       "71.0         0.087439\n",
       "72.0         0.001449\n",
       "\n",
       "[73 rows x 1 columns]"
      ]
     },
     "execution_count": 134,
     "metadata": {},
     "output_type": "execute_result"
    }
   ],
   "source": [
    "retention_rate = kmf.survival_function_\n",
    "retention_rate"
   ]
  },
  {
   "cell_type": "code",
   "execution_count": 180,
   "id": "3ace84e7",
   "metadata": {},
   "outputs": [
    {
     "name": "stdout",
     "output_type": "stream",
     "text": [
      "1.0\n",
      "0.9668657565415261\n",
      "0.9495438120015233\n",
      "0.9332597731611794\n",
      "0.918748293658758\n",
      "0.9078277713051909\n",
      "0.8966239729992385\n",
      "0.8837275476414636\n",
      "0.8705472988182349\n",
      "0.8585748133597321\n",
      "0.8468271140441527\n",
      "0.8354759916796736\n",
      "0.8222064694957774\n",
      "0.8101873920129286\n",
      "0.8013142360768148\n",
      "0.7906803570877817\n",
      "0.7816894586472476\n",
      "0.7710767150511015\n",
      "0.7583012724276937\n",
      "0.7487983091621806\n",
      "0.7394294917906999\n",
      "0.7312629235740438\n",
      "0.7200319230413365\n",
      "0.7071101138541538\n",
      "0.6943255918058608\n",
      "0.6841815184583186\n",
      "0.6725172624164076\n",
      "0.6617203866388386\n",
      "0.6534557689872291\n",
      "0.6429518268461487\n",
      "0.6325876062637122\n",
      "0.6234762621405728\n",
      "0.614134394263129\n",
      "0.6047382132003523\n",
      "0.5947347408846152\n",
      "0.5809037003989266\n",
      "0.5732877882337488\n",
      "0.5637361756340529\n",
      "0.5549037968604952\n",
      "0.5468030115048675\n",
      "0.5369175263624544\n",
      "0.5260116934004314\n",
      "0.5160278465960316\n",
      "0.506187498644162\n",
      "0.4972792321447538\n",
      "0.4863652825166763\n",
      "0.4740320933485639\n",
      "0.46323591745618825\n",
      "0.45217296675706076\n",
      "0.44187335920698934\n",
      "0.4300792244467475\n",
      "0.41782043420123444\n",
      "0.4030521125210732\n",
      "0.39151868467172196\n",
      "0.3801071702801243\n",
      "0.3686141002606595\n",
      "0.3539115435551062\n",
      "0.3418679865505443\n",
      "0.3299769261487861\n",
      "0.3188565112688529\n",
      "0.30380596791833403\n",
      "0.28912309242547907\n",
      "0.27500363261506855\n",
      "0.2601739363281337\n",
      "0.24354381087738677\n",
      "0.2288301631507998\n",
      "0.21199464291898878\n",
      "0.19223243044348987\n",
      "0.171554946790585\n",
      "0.15154786854557045\n",
      "0.12640628666704265\n",
      "0.0874389351381047\n",
      "0.0014492641183111276\n"
     ]
    }
   ],
   "source": [
    "#for i in retention_rate[\"KM_estimate\"]:"
   ]
  },
  {
   "cell_type": "code",
   "execution_count": 188,
   "id": "4d1c7b5e",
   "metadata": {},
   "outputs": [],
   "source": [
    "from math import pow\n",
    "\n",
    "def calculate_clv(retention_rate, monthly_fee, discount_rate):\n",
    "    return monthly_fee * (1 - pow(retention_rate,1/(1+discount_rate))) / discount_rate\n",
    "\n",
    "monthly_fee = 25\n",
    "discount_rate = 0.02\n",
    "\n",
    "\n",
    "#tutaj trzeba poprawić wzór na CLV"
   ]
  },
  {
   "cell_type": "code",
   "execution_count": 187,
   "id": "3a86dfc6",
   "metadata": {},
   "outputs": [
    {
     "name": "stdout",
     "output_type": "stream",
     "text": [
      "Retention rate:  1.0 CLV:  0.0\n",
      "Retention rate:  0.9668657565415261 CLV:  40.61903216876425\n",
      "Retention rate:  0.9495438120015233 CLV:  61.86468914778877\n",
      "Retention rate:  0.9332597731611794 CLV:  81.84426638143185\n",
      "Retention rate:  0.918748293658758 CLV:  99.65477296510205\n",
      "Retention rate:  0.9078277713051909 CLV:  113.06159059691372\n",
      "Retention rate:  0.8966239729992385 CLV:  126.81946530371997\n",
      "Retention rate:  0.8837275476414636 CLV:  142.66000365647082\n",
      "Retention rate:  0.8705472988182349 CLV:  158.85384398698935\n",
      "Retention rate:  0.8585748133597321 CLV:  173.56793809835722\n",
      "Retention rate:  0.8468271140441527 CLV:  188.00968263727958\n",
      "Retention rate:  0.8354759916796736 CLV:  201.96763675538674\n",
      "Retention rate:  0.8222064694957774 CLV:  218.28927770583468\n",
      "Retention rate:  0.8101873920129286 CLV:  233.07731595725437\n",
      "Retention rate:  0.8013142360768148 CLV:  243.99743065361744\n",
      "Retention rate:  0.7906803570877817 CLV:  257.08757783358584\n",
      "Retention rate:  0.7816894586472476 CLV:  268.1579320152366\n",
      "Retention rate:  0.7710767150511015 CLV:  281.2284546013508\n",
      "Retention rate:  0.7583012724276937 CLV:  296.96721446206135\n",
      "Retention rate:  0.7487983091621806 CLV:  308.6777975226279\n",
      "Retention rate:  0.7394294917906999 CLV:  320.2259243796776\n",
      "Retention rate:  0.7312629235740438 CLV:  330.29448262483413\n",
      "Retention rate:  0.7200319230413365 CLV:  344.1447846918794\n",
      "Retention rate:  0.7071101138541538 CLV:  360.08547277444137\n",
      "Retention rate:  0.6943255918058608 CLV:  375.8624218310734\n",
      "Retention rate:  0.6841815184583186 CLV:  388.38493045023665\n",
      "Retention rate:  0.6725172624164076 CLV:  402.78855614907974\n",
      "Retention rate:  0.6617203866388386 CLV:  416.12546050960987\n",
      "Retention rate:  0.6534557689872291 CLV:  426.337258044554\n",
      "Retention rate:  0.6429518268461487 CLV:  439.31963416175347\n",
      "Retention rate:  0.6325876062637122 CLV:  452.13339766093725\n",
      "Retention rate:  0.6234762621405728 CLV:  463.40157075376266\n",
      "Retention rate:  0.614134394263129 CLV:  474.9581904030431\n",
      "Retention rate:  0.6047382132003523 CLV:  486.58547749736744\n",
      "Retention rate:  0.5947347408846152 CLV:  498.9681513123665\n",
      "Retention rate:  0.5809037003989266 CLV:  516.0954758020973\n",
      "Retention rate:  0.5732877882337488 CLV:  525.5298532022925\n",
      "Retention rate:  0.5637361756340529 CLV:  537.3656001203469\n",
      "Retention rate:  0.5549037968604952 CLV:  548.3136168736223\n",
      "Retention rate:  0.5468030115048675 CLV:  558.3578033990548\n",
      "Retention rate:  0.5369175263624544 CLV:  570.6188020680763\n",
      "Retention rate:  0.5260116934004314 CLV:  584.1504811985704\n",
      "Retention rate:  0.5160278465960316 CLV:  596.5430049769564\n",
      "Retention rate:  0.506187498644162 CLV:  608.7620108545019\n",
      "Retention rate:  0.4972792321447538 CLV:  619.8276431549672\n",
      "Retention rate:  0.4863652825166763 CLV:  633.3899929489037\n",
      "Retention rate:  0.4740320933485639 CLV:  648.7231689376855\n",
      "Retention rate:  0.46323591745618825 CLV:  662.1518767389441\n",
      "Retention rate:  0.45217296675706076 CLV:  675.918778812084\n",
      "Retention rate:  0.44187335920698934 CLV:  688.7417003304661\n",
      "Retention rate:  0.4300792244467475 CLV:  703.4325037425365\n",
      "Retention rate:  0.41782043420123444 CLV:  718.7104619383855\n",
      "Retention rate:  0.4030521125210732 CLV:  737.127715617716\n",
      "Retention rate:  0.39151868467172196 CLV:  751.5199851114958\n",
      "Retention rate:  0.3801071702801243 CLV:  765.7683063935888\n",
      "Retention rate:  0.3686141002606595 CLV:  780.1269393553275\n",
      "Retention rate:  0.3539115435551062 CLV:  798.5081213707172\n",
      "Retention rate:  0.3418679865505443 CLV:  813.5761482965476\n",
      "Retention rate:  0.3299769261487861 CLV:  828.4635981080171\n",
      "Retention rate:  0.3188565112688529 CLV:  842.3957264910516\n",
      "Retention rate:  0.30380596791833403 CLV:  861.2669333678766\n",
      "Retention rate:  0.28912309242547907 CLV:  879.6948110362072\n",
      "Retention rate:  0.27500363261506855 CLV:  897.4328802677354\n",
      "Retention rate:  0.2601739363281337 CLV:  916.0824719985374\n",
      "Retention rate:  0.24354381087738677 CLV:  937.0211355701299\n",
      "Retention rate:  0.2288301631507998 CLV:  955.570143988991\n",
      "Retention rate:  0.21199464291898878 CLV:  976.82294709371\n",
      "Retention rate:  0.19223243044348987 CLV:  1001.8128542874605\n",
      "Retention rate:  0.171554946790585 CLV:  1028.014320028542\n",
      "Retention rate:  0.15154786854557045 CLV:  1053.4253568554784\n",
      "Retention rate:  0.12640628666704265 CLV:  1085.45258441671\n",
      "Retention rate:  0.0874389351381047 CLV:  1135.3521913650686\n",
      "Retention rate:  0.0014492641183111276 CLV:  1247.9406919055182\n"
     ]
    }
   ],
   "source": [
    "for retention_rate in retention_rate[\"KM_estimate\"]:\n",
    "    clv = calculate_clv(retention_rate, monthly_fee, discount_rate)\n",
    "    print(\"Retention rate: \", retention_rate, \"CLV: \", clv)"
   ]
  },
  {
   "cell_type": "code",
   "execution_count": null,
   "id": "db56523b",
   "metadata": {},
   "outputs": [],
   "source": [
    "from math import pow\n",
    "\n",
    "def calculate_clv(retention_rate, monthly_fee, discount_rate):\n",
    "    return monthly_fee * (1 - pow(retention_rate,1/(1+discount_rate))) / discount_rate\n",
    "\n",
    "monthly_fee = 25\n",
    "discount_rate = 0.02\n",
    "\n",
    "#clv = calculate_clv(retention_rate, monthly_fee, discount_rate)\n",
    "\n",
    "#print(\"CLV: \", clv)"
   ]
  },
  {
   "cell_type": "markdown",
   "id": "56d26ec6",
   "metadata": {},
   "source": [
    " **3. Budowa uogólnionego modelu retencji ze zmienną grupującą**:"
   ]
  },
  {
   "cell_type": "code",
   "execution_count": 190,
   "id": "e8d5c5d0",
   "metadata": {},
   "outputs": [
    {
     "data": {
      "image/png": "[encoded data removed]",
      "text/plain": [
       "<Figure size 432x288 with 1 Axes>"
      ]
     },
     "metadata": {
      "needs_background": "light"
     },
     "output_type": "display_data"
    }
   ],
   "source": [
    "from lifelines import KaplanMeierFitter\n",
    "\n",
    "df = pd.read_csv(\"telco_customers.csv\")\n",
    "# fit the model to data\n",
    "kmf = KaplanMeierFitter()\n",
    "\n",
    "for group, data in df.groupby('InternetService'):\n",
    "    T = data['tenure']\n",
    "    E = data['cancel']\n",
    "    kmf.fit(T, event_observed=E, label=group)\n",
    "    kmf.plot()"
   ]
  },
  {
   "cell_type": "markdown",
   "id": "8848a5ed",
   "metadata": {},
   "source": [
    "Wyżej możemy zaobserwować jak różni się stopa retencji w zależności od wartości zmiennej **InternetService** \n",
    "Na powyższym wykresie można łatwo zauważyć, że najszybiciej stopa retencji maleje dla klientów u, których zmienna **InternetService**  ma wartość **\"No\"**.  \n",
    "Najwolniej maleje dla klientów z wartością **\"Fiber Optic\"**  \n",
    "Możemy postawić hipotezę, że klienci mający Internet Światłowodowy (Fiber Optic) są najbardziej zadowolenii z usługi, dlatego są najbardziej wierni firmie. "
   ]
  },
  {
   "cell_type": "code",
   "execution_count": null,
   "id": "3d67425b",
   "metadata": {},
   "outputs": [],
   "source": []
  }
 ],
 "metadata": {
  "kernelspec": {
   "display_name": "Python 3 (ipykernel)",
   "language": "python",
   "name": "python3"
  },
  "language_info": {
   "codemirror_mode": {
    "name": "ipython",
    "version": 3
   },
   "file_extension": ".py",
   "mimetype": "text/x-python",
   "name": "python",
   "nbconvert_exporter": "python",
   "pygments_lexer": "ipython3",
   "version": "3.9.12"
  }
 },
 "nbformat": 4,
 "nbformat_minor": 5
}
